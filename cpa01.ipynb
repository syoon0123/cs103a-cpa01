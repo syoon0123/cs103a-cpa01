{
 "cells": [
  {
   "cell_type": "markdown",
   "metadata": {},
   "source": [
    "# Dataset Description:\n",
    "This dataset was found on the [data.gov website](https://catalog.data.gov/dataset?res_format=CSV)  \n",
    "***Direct link to download the dataset***: https://data.cdc.gov/api/views/qz99-wyhv/rows.csv?accessType=DOWNLOAD\n",
    "\n",
    " \n"
   ]
  },
  {
   "cell_type": "markdown",
   "metadata": {},
   "source": [
    "### Which age group has the highest rate of vaccination?"
   ]
  },
  {
   "cell_type": "code",
   "execution_count": null,
   "metadata": {},
   "outputs": [],
   "source": []
  },
  {
   "cell_type": "markdown",
   "metadata": {},
   "source": [
    "### What is the difference in vaccination status between those below poverty and above poverty?"
   ]
  },
  {
   "cell_type": "code",
   "execution_count": null,
   "metadata": {},
   "outputs": [],
   "source": []
  },
  {
   "cell_type": "markdown",
   "metadata": {},
   "source": [
    "### How does insurance affect vaccination status and willingness to get vaccinated?\n",
    "Subquestions:\n",
    "- What is the difference in percent estimate of vaccinated people who are insured and vaccinated and not insured and vaccinated?\n",
    "- What is the difference in percent estimate of insured and uninsured poeple who are Probably or Definitely Will Not Get Vaccinated?"
   ]
  },
  {
   "cell_type": "code",
   "execution_count": null,
   "metadata": {},
   "outputs": [],
   "source": []
  }
 ],
 "metadata": {
  "kernelspec": {
   "display_name": "Python 3",
   "language": "python",
   "name": "python3"
  },
  "language_info": {
   "codemirror_mode": {
    "name": "ipython",
    "version": 3
   },
   "file_extension": ".py",
   "mimetype": "text/x-python",
   "name": "python",
   "nbconvert_exporter": "python",
   "pygments_lexer": "ipython3",
   "version": "3.8.3"
  }
 },
 "nbformat": 4,
 "nbformat_minor": 4
}
