{
 "cells": [
  {
   "cell_type": "markdown",
   "metadata": {},
   "source": [
    "# COVID Dataset Description:\n",
    "Provided by the CDC, this dataset looks at trends in behavioral indicators reguarding COVID vaccines (Definitely Will Get Vaccinated, Probably Will Get Vaccinated or Are Unsure, Probably or Definitely Will Not Get Vaccinated, Vaccinated) across different demopgraphics (e.g. region, age, sex, race) amongst a large sample size. \n",
    "\n",
    "This dataset was found on the [data.gov website](https://catalog.data.gov/dataset?res_format=CSV)  and was downloaded using the download button or the link below  \n",
    "***Direct link to download the dataset***: https://data.cdc.gov/api/views/qz99-wyhv/rows.csv?accessType=DOWNLOAD  \n",
    "\n",
    "I will aim to address the following questions:\n",
    "- Which age group has the highest rate of vaccination?\n",
    "- What is the difference in vaccination status between those below poverty and above poverty?\n",
    "- Does vaccination status differ by metropolitan statistical area?\n",
    "- How does insurance affect vaccination status and willingness to get vaccinated?\n",
    "\n",
    " \n"
   ]
  },
  {
   "cell_type": "code",
   "execution_count": null,
   "metadata": {},
   "outputs": [],
   "source": [
    "import csv\n",
    "import pandas as pd\n",
    "import numpy as np\n",
    "import matplotlib.pyplot as plt\n",
    "df = pd.read_csv('COVID_VaccTrends.csv')\n"
   ]
  },
  {
   "cell_type": "code",
   "execution_count": null,
   "metadata": {},
   "outputs": [],
   "source": [
    "df.describe()"
   ]
  },
  {
   "cell_type": "code",
   "execution_count": null,
   "metadata": {},
   "outputs": [],
   "source": [
    "df"
   ]
  },
  {
   "cell_type": "code",
   "execution_count": null,
   "metadata": {},
   "outputs": [],
   "source": [
    "df.columns"
   ]
  },
  {
   "cell_type": "code",
   "execution_count": null,
   "metadata": {},
   "outputs": [],
   "source": [
    "#L\n",
    "df.groupby(\"Indicator Category\").mean()"
   ]
  },
  {
   "cell_type": "code",
   "execution_count": null,
   "metadata": {},
   "outputs": [],
   "source": [
    "plt.figure(figsize=(20, 5), dpi=80)\n",
    "plt.scatter(df['Indicator Category'], df['Estimate (%)'])\n",
    "plt.xlabel('Indicator Category')\n",
    "plt.ylabel('Estimate (%)')\n",
    "plt.title(\"Percent Estimates of Vaccination Status Across All Categories\")"
   ]
  },
  {
   "cell_type": "code",
   "execution_count": null,
   "metadata": {},
   "outputs": [],
   "source": [
    "#Looks at Estimate (%) of Indicator Category (Vaccination status) by Group Category (speicfic demographics)\n",
    "column = 'Estimate (%)'\n",
    "df2 = pd.pivot_table(df, values=column, index=[\"Indicator Category\"], columns=[\"Group Category\"])\n",
    "df2"
   ]
  },
  {
   "cell_type": "markdown",
   "metadata": {},
   "source": [
    "### Which age group has the highest rate of vaccination?"
   ]
  },
  {
   "cell_type": "code",
   "execution_count": null,
   "metadata": {},
   "outputs": [],
   "source": [
    "df2[['18 - 29 years', '50 - 64 years', '65+ years']].plot(figsize=(20,10))\n",
    "plt.grid()\n",
    "plt.ylabel(\"Estimate %\")\n",
    "plt.title(\"Estimate % of each indicator by age group\",fontsize=40)"
   ]
  },
  {
   "cell_type": "markdown",
   "metadata": {},
   "source": [
    "### What is the difference in vaccination status between those below poverty and above poverty?"
   ]
  },
  {
   "cell_type": "code",
   "execution_count": null,
   "metadata": {},
   "outputs": [],
   "source": [
    "df2[['Below poverty', 'Above poverty, income <$75k']].plot(figsize=(30,20))\n",
    "plt.grid()\n",
    "plt.ylabel(\"Estimate %\")\n",
    "plt.title(\"Estimate % of each indicator by income status\",fontsize=40)"
   ]
  },
  {
   "cell_type": "markdown",
   "metadata": {},
   "source": [
    "### Does vaccination status differ by metropolitan statistical area?"
   ]
  },
  {
   "cell_type": "code",
   "execution_count": null,
   "metadata": {},
   "outputs": [],
   "source": [
    "df2[['Rural', 'Suburban',\"Urban\"]].plot(figsize=(20,20))\n",
    "plt.grid()\n",
    "plt.ylabel(\"Estimate %\")\n",
    "plt.title(\"Estimate % of each indicator by metropolitan statistical area\",fontsize=40)"
   ]
  },
  {
   "cell_type": "markdown",
   "metadata": {},
   "source": [
    "### How does insurance affect vaccination status and willingness to get vaccinated?"
   ]
  },
  {
   "cell_type": "code",
   "execution_count": null,
   "metadata": {},
   "outputs": [],
   "source": [
    "df2[['Insured', 'Not insured']].plot(figsize=(30,20))\n",
    "plt.grid()\n",
    "plt.ylabel(\"Estimate %\")\n",
    "plt.title(\"Estimate % of each indicator by insurance status\",fontsize=40)"
   ]
  },
  {
   "cell_type": "markdown",
   "metadata": {},
   "source": [
    "## Discussion:\n",
    "\n",
    "As the data and graphs have shown, many people in the U.S have been able to get vaccinated. However, there is a disparity between the percent of people who want to get vaccinated, who don't want to get vaccinated, and who are vaccinated when looking at differences in age, income, health insurance, and where they live.\n",
    "\n",
    "Correlation does not mean causation, but this analysis opens the discussion to consider that there should be better education and access to resources regardless of socioeconimic status-- paritcularly for those who have or don't have health insurance. "
   ]
  }
 ],
 "metadata": {
  "kernelspec": {
   "display_name": "Python 3",
   "language": "python",
   "name": "python3"
  },
  "language_info": {
   "codemirror_mode": {
    "name": "ipython",
    "version": 3
   },
   "file_extension": ".py",
   "mimetype": "text/x-python",
   "name": "python",
   "nbconvert_exporter": "python",
   "pygments_lexer": "ipython3",
   "version": "3.8.3"
  }
 },
 "nbformat": 4,
 "nbformat_minor": 4
}
